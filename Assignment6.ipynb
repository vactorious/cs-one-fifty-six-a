{
 "cells": [
  {
   "cell_type": "markdown",
   "metadata": {},
   "source": [
    "# Problem Set 6\n",
    "\n",
    "Victor Huang\n",
    "\n",
    "November 9, 2020\n",
    "\n",
    "1. B\n",
    "2. A\n",
    "3. D\n",
    "4. E\n",
    "5. D\n",
    "6. B\n",
    "7. C\n",
    "8. D\n",
    "9. A\n",
    "10. E"
   ]
  },
  {
   "cell_type": "markdown",
   "metadata": {},
   "source": [
    "## Regularization with Weight Decay"
   ]
  },
  {
   "cell_type": "code",
   "execution_count": 19,
   "metadata": {},
   "outputs": [],
   "source": [
    "# Importing Libraries\n",
    "import numpy"
   ]
  },
  {
   "cell_type": "code",
   "execution_count": 58,
   "metadata": {},
   "outputs": [],
   "source": [
    "# Translate data file to list\n",
    "def get_data(filename):\n",
    "    file = open(filename)\n",
    "    data = []\n",
    "    label = []\n",
    "    for line in file:\n",
    "        content = [x for x in line.split() if x]\n",
    "        data.append((float(content[0]), float(content[1])))\n",
    "        label.append(float(content[2]))\n",
    "    return (data, label)\n",
    "\n",
    "# Non-linear Transformation\n",
    "def transform(data):\n",
    "    transformed = []\n",
    "    for x1, x2 in data:\n",
    "        transformed.append((1, x1, x2, x1**2, x2**2, x1*x2, abs(x1-x2), abs(x1+x2)))\n",
    "    return transformed\n",
    "\n",
    "# Calculate Weight Decay Weights\n",
    "def decay_weights(data, output, l):\n",
    "    first1 = numpy.dot(numpy.transpose(data), data)\n",
    "    first2 = first1 + (l * numpy.identity(first1.shape[0]))\n",
    "    second = numpy.dot(numpy.linalg.inv(first2), numpy.transpose(data))\n",
    "    third = numpy.dot(second, output)\n",
    "    return third\n",
    "\n",
    "# Output based on hypothesis\n",
    "def g(w, x):\n",
    "    return numpy.sign(numpy.dot(w, x))\n",
    "\n",
    "# Get Error\n",
    "def get_error(w, data, label):\n",
    "    total_error = 0\n",
    "    for i, j in zip(data, label):\n",
    "        hyp = g(w, i)\n",
    "        if hyp != j:\n",
    "            total_error += 1\n",
    "    return total_error / float(len(label))\n",
    "\n",
    "# Non-linear Transformation Regression Testing Function\n",
    "def do_linear_test():\n",
    "    data_in, label_in = get_data(\"in.txt\")\n",
    "    data_out, label_out = get_data(\"out.txt\")\n",
    "    transformed_in, transformed_out = transform(data_in), transform(data_out)\n",
    "    w = numpy.dot(numpy.linalg.pinv(transformed_in), label_in)\n",
    "    error_in = get_error(w, transformed_in, label_in)\n",
    "    error_out = get_error(w, transformed_out, label_out)\n",
    "    print(\"Non-Linear Transformation Regression: \")\n",
    "    print(\"In-sample Error: \", error_in)\n",
    "    print(\"Out-sample Error: \", error_out)\n",
    "    \n",
    "# Weight Decay Linear Regression Testing Function\n",
    "def do_weight_decay_test(k):\n",
    "    data_in, label_in = get_data(\"in.txt\")\n",
    "    data_out, label_out = get_data(\"out.txt\")\n",
    "    transformed_in, transformed_out = transform(data_in), transform(data_out)\n",
    "    w = decay_weights(transformed_in, label_in, 10**k)\n",
    "    error_in = get_error(w, transformed_in, label_in)\n",
    "    error_out = get_error(w, transformed_out, label_out)\n",
    "    return (error_in, error_out)\n",
    "    \n",
    "# Finding minimum out-sample error\n",
    "def find_min_error():\n",
    "    min_error = float('inf')\n",
    "    for i in range(-10, 10):\n",
    "        _, error_out = do_weight_decay_test(i)\n",
    "        if error_out < min_error:\n",
    "            min_error = error_out\n",
    "    return min_error"
   ]
  },
  {
   "cell_type": "code",
   "execution_count": 59,
   "metadata": {},
   "outputs": [
    {
     "name": "stdout",
     "output_type": "stream",
     "text": [
      "Non-Linear Transformation Regression: \n",
      "In-sample Error:  0.02857142857142857\n",
      "Out-sample Error:  0.084\n",
      "\n",
      "Regularized Weight Decay Regression, k = -3\n",
      "In-sample Error:  0.02857142857142857\n",
      "Out-sample Error:  0.08\n",
      "\n",
      "Regularized Weight Decay Regression, k = -2\n",
      "In-sample Error:  0.02857142857142857\n",
      "Out-sample Error:  0.084\n",
      "\n",
      "Regularized Weight Decay Regression, k = -1\n",
      "In-sample Error:  0.02857142857142857\n",
      "Out-sample Error:  0.056\n",
      "\n",
      "Regularized Weight Decay Regression, k = 0\n",
      "In-sample Error:  0.0\n",
      "Out-sample Error:  0.092\n",
      "\n",
      "Regularized Weight Decay Regression, k = 1\n",
      "In-sample Error:  0.05714285714285714\n",
      "Out-sample Error:  0.124\n",
      "\n",
      "Regularized Weight Decay Regression, k = 2\n",
      "In-sample Error:  0.2\n",
      "Out-sample Error:  0.228\n",
      "\n",
      "Regularized Weight Decay Regression, k = 3\n",
      "In-sample Error:  0.37142857142857144\n",
      "Out-sample Error:  0.436\n",
      "\n",
      "Minimum out-sample error by varying k:  0.056\n"
     ]
    }
   ],
   "source": [
    "# Driver code\n",
    "do_linear_test()\n",
    "for k in range(-3, 4):\n",
    "    error_in, error_out = do_weight_decay_test(k)\n",
    "    print(\"\\nRegularized Weight Decay Regression, k =\", k)\n",
    "    print(\"In-sample Error: \", error_in)\n",
    "    print(\"Out-sample Error: \", error_out)\n",
    "print(\"\\nMinimum out-sample error by varying k: \", find_min_error())"
   ]
  }
 ],
 "metadata": {
  "kernelspec": {
   "display_name": "Python 3",
   "language": "python",
   "name": "python3"
  },
  "language_info": {
   "codemirror_mode": {
    "name": "ipython",
    "version": 3
   },
   "file_extension": ".py",
   "mimetype": "text/x-python",
   "name": "python",
   "nbconvert_exporter": "python",
   "pygments_lexer": "ipython3",
   "version": "3.8.3"
  }
 },
 "nbformat": 4,
 "nbformat_minor": 4
}
