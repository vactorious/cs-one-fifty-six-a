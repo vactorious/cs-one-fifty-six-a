{
 "cells": [
  {
   "cell_type": "markdown",
   "metadata": {},
   "source": [
    "# Problem Set 2\n",
    "\n",
    "Victor Huang\n",
    "\n",
    "October 12, 2020"
   ]
  },
  {
   "cell_type": "markdown",
   "metadata": {},
   "source": [
    "1. B\n",
    "2. D\n",
    "3. E\n",
    "4. B\n",
    "5. C\n",
    "6. C\n",
    "7. A\n",
    "8. D\n",
    "9. A\n",
    "10. B"
   ]
  },
  {
   "cell_type": "code",
   "execution_count": 16,
   "metadata": {},
   "outputs": [],
   "source": [
    "# Importing Libraries\n",
    "import numpy\n",
    "import random"
   ]
  },
  {
   "cell_type": "markdown",
   "metadata": {},
   "source": [
    "## Hoeffding Inequality - Coin Flipping"
   ]
  },
  {
   "cell_type": "code",
   "execution_count": 17,
   "metadata": {},
   "outputs": [],
   "source": [
    "# Coin Flipping\n",
    "def handle_coins(numcoins, flips):\n",
    "    \n",
    "    # First coin\n",
    "    v1 = 0\n",
    "    \n",
    "    # Random coin\n",
    "    rand = random.randrange(numcoins)\n",
    "    vrand = 0\n",
    "    \n",
    "    # Minimum coin\n",
    "    vmin = float('inf')\n",
    "    \n",
    "    # Flip function\n",
    "    def flip(n, p):\n",
    "        return numpy.random.binomial(n, p) / n\n",
    "    \n",
    "    for i in range(numcoins):\n",
    "        # Flip coin\n",
    "        heads = flip(flips, 0.5)\n",
    "        # Check index\n",
    "        if i == 0:\n",
    "            v1 = heads\n",
    "        elif i == rand:\n",
    "            vrand = heads\n",
    "        # Check min\n",
    "        if heads < vmin:\n",
    "            vmin = heads\n",
    "    \n",
    "    return (v1, vrand, vmin)"
   ]
  },
  {
   "cell_type": "code",
   "execution_count": 18,
   "metadata": {},
   "outputs": [],
   "source": [
    "# Testing Function\n",
    "def do_coin_test(runs):\n",
    "    \n",
    "    distributions = [0, 0, 0]\n",
    "    \n",
    "    for i in range(runs):\n",
    "        v1, vrand, vmin = handle_coins(1000, 10)\n",
    "        distributions[0] += v1\n",
    "        distributions[1] += vrand\n",
    "        distributions[2] += vmin\n",
    "    \n",
    "    print(\"Distributions:\\n\")\n",
    "    print(\"v1: \", distributions[0] / runs)\n",
    "    print(\"vrand: \", distributions[1] / runs)\n",
    "    print(\"vmin: \", distributions[2] / runs)"
   ]
  },
  {
   "cell_type": "code",
   "execution_count": 20,
   "metadata": {},
   "outputs": [
    {
     "name": "stdout",
     "output_type": "stream",
     "text": [
      "Distributions:\n",
      "\n",
      "v1:  0.4988890000000029\n",
      "vrand:  0.49977299999999664\n",
      "vmin:  0.037675999999976686\n"
     ]
    }
   ],
   "source": [
    "# Driver Code\n",
    "runs = 100000\n",
    "do_coin_test(runs)"
   ]
  },
  {
   "cell_type": "markdown",
   "metadata": {},
   "source": [
    "## Linear Regression"
   ]
  },
  {
   "cell_type": "code",
   "execution_count": 63,
   "metadata": {},
   "outputs": [],
   "source": [
    "# Perceptron Learning Algorithm\n",
    "def pla(weight, data_points, outputs):\n",
    "\n",
    "    # Determine output for hypothesis\n",
    "    def h(x):\n",
    "        return numpy.sign(numpy.dot(weight, x))\n",
    "    \n",
    "    # Get misclassified points\n",
    "    def misclassified():\n",
    "        arr = []\n",
    "        for i in range(len(data_points)):\n",
    "            if h(data_points[i]) != outputs[i]:\n",
    "                arr.append((data_points[i], outputs[i]))\n",
    "        return arr\n",
    "        \n",
    "    # PLA iteration\n",
    "    def iterate():\n",
    "        iterations = 0\n",
    "        misc = misclassified()\n",
    "        while len(misc) != 0:\n",
    "            random_point = random.choice(misc)\n",
    "            weight[0] += random_point[0][0] * random_point[1]\n",
    "            weight[1] += random_point[0][1] * random_point[1]\n",
    "            weight[2] += random_point[0][2] * random_point[1]\n",
    "            misc = misclassified()\n",
    "            iterations += 1\n",
    "        return iterations\n",
    "    \n",
    "    return iterate()"
   ]
  },
  {
   "cell_type": "code",
   "execution_count": 64,
   "metadata": {},
   "outputs": [],
   "source": [
    "# Linear Regression\n",
    "def linreg(points):\n",
    "    \n",
    "    # Choosing target function points\n",
    "    p1 = [random.uniform(-1, 1), random.uniform(-1, 1)]\n",
    "    p2 = [random.uniform(-1, 1), random.uniform(-1, 1)]\n",
    "    slope = (p2[1] - p1[1]) / (p2[0] - p1[0])\n",
    "    intercept = p1[1] - (slope * p1[0])\n",
    "    \n",
    "    # Determine actual output based on target function\n",
    "    def actual_output(j, k):\n",
    "        return numpy.sign(k - (slope * j + intercept))\n",
    "    \n",
    "    # Choosing input points\n",
    "    data = []\n",
    "    output = []\n",
    "    for i in range(points):\n",
    "        random_x = random.uniform(-1, 1)\n",
    "        random_y = random.uniform(-1, 1)\n",
    "        data.append([1, random_x, random_y])\n",
    "        output.append(actual_output(random_x, random_y))\n",
    "        \n",
    "    # Perform linear regression to get weight vector\n",
    "    w = numpy.dot(numpy.linalg.pinv(data), output)\n",
    "        \n",
    "    # Determine output for linear regression\n",
    "    def h(x):\n",
    "        return numpy.sign(numpy.dot(w, x))\n",
    "        \n",
    "    # In-sample Error\n",
    "    def in_sample():\n",
    "        num_incorrect = 0\n",
    "        for i in range(points):\n",
    "            if h(data[i]) != actual_output(data[i][1], data[i][2]):\n",
    "                num_incorrect += 1\n",
    "        return num_incorrect / points\n",
    "    \n",
    "    # Out-sample Error\n",
    "    def out_sample(test_points):\n",
    "        num_incorrect = 0\n",
    "        for i in range(test_points):\n",
    "            test = [1, random.uniform(-1, 1), random.uniform(-1, 1)]\n",
    "            if h(test) != actual_output(test[1], test[2]):\n",
    "                num_incorrect += 1\n",
    "        return num_incorrect / test_points\n",
    "        \n",
    "    return (in_sample(), out_sample(1000), w, data, output)"
   ]
  },
  {
   "cell_type": "code",
   "execution_count": 65,
   "metadata": {},
   "outputs": [],
   "source": [
    "# Linreg Testing Function\n",
    "def do_linreg_test(runs, points):\n",
    "    total_in_sample_error = 0\n",
    "    total_out_sample_error = 0\n",
    "    for i in range(runs):\n",
    "        result_linreg = linreg(points)\n",
    "        total_in_sample_error += result_linreg[0]\n",
    "        total_out_sample_error += result_linreg[1]\n",
    "    \n",
    "    print(\"Linear Regression\\n\")\n",
    "    print(\"Runs: \", runs)\n",
    "    print(\"Average in-sample error: \", total_in_sample_error / runs)\n",
    "    print(\"Average out-sample error: \", total_out_sample_error / runs)"
   ]
  },
  {
   "cell_type": "code",
   "execution_count": 66,
   "metadata": {},
   "outputs": [],
   "source": [
    "# Perceptron Testing Function\n",
    "def do_pla_test(runs):\n",
    "    total_iterations = 0\n",
    "    for i in range(runs):\n",
    "        _, _, weight, data, output = linreg(10)\n",
    "        weight = numpy.ndarray.tolist(weight)\n",
    "        total_iterations += pla(weight, data, output)\n",
    "    print(\"\\nPerceptron\")\n",
    "    print(\"Average iterations: \", total_iterations / runs)"
   ]
  },
  {
   "cell_type": "code",
   "execution_count": 67,
   "metadata": {},
   "outputs": [
    {
     "name": "stdout",
     "output_type": "stream",
     "text": [
      "Linear Regression\n",
      "\n",
      "Runs:  1000\n",
      "Average in-sample error:  0.0376100000000001\n",
      "Average out-sample error:  0.048001999999999934\n",
      "\n",
      "Perceptron\n",
      "Average iterations:  3.812\n"
     ]
    }
   ],
   "source": [
    "# Driver Code\n",
    "runs = 1000\n",
    "do_linreg_test(runs, 100)\n",
    "do_pla_test(runs)"
   ]
  },
  {
   "cell_type": "markdown",
   "metadata": {},
   "source": [
    "## Nonlinear Transformation"
   ]
  },
  {
   "cell_type": "code",
   "execution_count": 86,
   "metadata": {},
   "outputs": [],
   "source": [
    "# Linear Regression, no transformations\n",
    "def no_transform_linreg(points):\n",
    "    \n",
    "    # Determine actual output based on target function\n",
    "    def actual_output(j, k):\n",
    "        return numpy.sign(j**2 + k**2 - 0.6)\n",
    "    \n",
    "    # Choosing input points\n",
    "    data = []\n",
    "    output = []\n",
    "    for i in range(points):\n",
    "        random_x = random.uniform(-1, 1)\n",
    "        random_y = random.uniform(-1, 1)\n",
    "        data.append([1, random_x, random_y])\n",
    "        res = actual_output(random_x, random_y)\n",
    "        if random.randrange(10) == 1:\n",
    "            output.append(-1.0 * res)\n",
    "        else:\n",
    "            output.append(res)\n",
    "    \n",
    "    # Perform linear regression to get weight vector\n",
    "    w = numpy.dot(numpy.linalg.pinv(data), output)\n",
    "    \n",
    "    # Determine output for linear regression\n",
    "    def h(x):\n",
    "        return numpy.sign(numpy.dot(w, x))\n",
    "    \n",
    "    # In-sample Error\n",
    "    def in_sample():\n",
    "        num_incorrect = 0\n",
    "        for i in range(points):\n",
    "            if h(data[i]) != actual_output(data[i][1], data[i][2]):\n",
    "                num_incorrect += 1\n",
    "        return num_incorrect / points\n",
    "    \n",
    "    return (in_sample(), data)\n",
    "        \n",
    "# Linear Regression, transformations\n",
    "def transform_linreg(points, data):\n",
    "    \n",
    "    # Determine actual output based on target function\n",
    "    def actual_output(j, k):\n",
    "        return numpy.sign(j**2 + k**2 - 0.6)\n",
    "    \n",
    "    # Data Transformation\n",
    "    output = []\n",
    "    for i in range(points):\n",
    "        x1 = data[i][1]\n",
    "        x2 = data[i][2]\n",
    "        data[i].extend([x1 * x2, x1**2, x2**2])\n",
    "        res = actual_output(data[i][1], data[i][2])\n",
    "        if random.randrange(10) == 1:\n",
    "            output.append(-1.0 * res)\n",
    "        else:\n",
    "            output.append(res)\n",
    "            \n",
    "    # Perform linear regression to get weight vector\n",
    "    w = numpy.dot(numpy.linalg.pinv(data), output)\n",
    "    \n",
    "    # Determine output for linear regression\n",
    "    def h(x):\n",
    "        return numpy.sign(numpy.dot(w, x))\n",
    "    \n",
    "    # Out-sample Error\n",
    "    def out_sample(test_points):\n",
    "        num_incorrect = 0\n",
    "        for i in range(test_points):\n",
    "            x1 = random.uniform(-1, 1)\n",
    "            x2 = random.uniform(-1, 1)\n",
    "            test = [1, x1, x2, x1 * x2, x1**2, x2**2]\n",
    "            if h(test) != actual_output(test[1], test[2]):\n",
    "                num_incorrect += 1\n",
    "        return num_incorrect / test_points\n",
    "    \n",
    "    return (out_sample(1000), w)"
   ]
  },
  {
   "cell_type": "code",
   "execution_count": 87,
   "metadata": {},
   "outputs": [],
   "source": [
    "# Nonlinear Transformation Testing Function\n",
    "def do_nlt_test(runs, points):\n",
    "    total_in_sample_error = 0\n",
    "    total_out_sample_error = 0\n",
    "    total_weight_vector = [0, 0, 0, 0, 0, 0]\n",
    "    for i in range(runs):\n",
    "        result = no_transform_linreg(points)\n",
    "        total_in_sample_error += result[0]\n",
    "        result2 = transform_linreg(points, result[1])\n",
    "        total_out_sample_error += result2[0]\n",
    "        total_weight_vector = [total_weight_vector[j] + result2[1][j] for j in range(6)]\n",
    "        \n",
    "    print(\"Non-transform Linear Regression\\n\")\n",
    "    print(\"Tests: \", runs)\n",
    "    print(\"Number of points: \", points)\n",
    "    print(\"Average in-sample error: \", total_in_sample_error / runs)\n",
    "    print(\"\\nTransformed Linear Regression\\n\")\n",
    "    print(\"Tests: \", runs)\n",
    "    print(\"Number of points: \", points)\n",
    "    print(\"Average out-sample error: \", total_out_sample_error / runs)\n",
    "    print(\"\\nResultant vector: \", [total_weight_vector[k] / runs for k in range(6)])"
   ]
  },
  {
   "cell_type": "code",
   "execution_count": 88,
   "metadata": {},
   "outputs": [
    {
     "name": "stdout",
     "output_type": "stream",
     "text": [
      "Non-transform Linear Regression\n",
      "\n",
      "Tests:  1000\n",
      "Number of points:  1000\n",
      "Average in-sample error:  0.5119270000000002\n",
      "\n",
      "Transformed Linear Regression\n",
      "\n",
      "Tests:  1000\n",
      "Number of points:  1000\n",
      "Average out-sample error:  0.032096999999999994\n",
      "\n",
      "Resultant vector:  [-0.9929095472066776, -0.0009019764083365072, 0.002224032498416515, 0.0017164658773495213, 1.5602992535252829, 1.561391461816801]\n"
     ]
    }
   ],
   "source": [
    "# Driver Code\n",
    "runs = 1000\n",
    "do_nlt_test(runs, 1000)"
   ]
  }
 ],
 "metadata": {
  "kernelspec": {
   "display_name": "Python 3",
   "language": "python",
   "name": "python3"
  },
  "language_info": {
   "codemirror_mode": {
    "name": "ipython",
    "version": 3
   },
   "file_extension": ".py",
   "mimetype": "text/x-python",
   "name": "python",
   "nbconvert_exporter": "python",
   "pygments_lexer": "ipython3",
   "version": "3.8.3"
  }
 },
 "nbformat": 4,
 "nbformat_minor": 4
}
