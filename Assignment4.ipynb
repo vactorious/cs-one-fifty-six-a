{
 "cells": [
  {
   "cell_type": "markdown",
   "metadata": {},
   "source": [
    "# Problem Set 4\n",
    "\n",
    "Victor Huang\n",
    "\n",
    "October 26, 2020\n",
    "\n",
    "1. D\n",
    "2. D\n",
    "3. C\n",
    "4. E\n",
    "5. B\n",
    "6. A\n",
    "7. B\n",
    "8. C\n",
    "9. B\n",
    "10. E"
   ]
  },
  {
   "cell_type": "markdown",
   "metadata": {},
   "source": [
    "## Bias and Variance"
   ]
  },
  {
   "cell_type": "code",
   "execution_count": 5,
   "metadata": {},
   "outputs": [],
   "source": [
    "# Importing Libraries\n",
    "import math\n",
    "import random"
   ]
  },
  {
   "cell_type": "code",
   "execution_count": 18,
   "metadata": {},
   "outputs": [],
   "source": [
    "# Generate x-values\n",
    "def random_x():\n",
    "    return random.uniform(-1, 1)\n",
    "\n",
    "# Target function calculation\n",
    "def output(x):\n",
    "    return math.sin(math.pi * x)\n",
    "\n",
    "# Getting slope\n",
    "def get_slope():\n",
    "    x1, x2 = random_x(), random_x()\n",
    "    y1, y2 = output(x1), output(x2)\n",
    "    return ((x1 * y1) + (x2 * y2)) / (x1**2 + x2**2)\n",
    "\n",
    "# Getting bias\n",
    "def get_bias(slope):\n",
    "    sum_bias = 0\n",
    "    for i in range(1000):\n",
    "        x = random_x()\n",
    "        y = slope * x\n",
    "        sum_bias += (y - output(x))**2\n",
    "    return sum_bias / 1000\n",
    "\n",
    "# Getting variance\n",
    "def get_variance(average_slope, all_slopes, runs):\n",
    "    sum_variance = 0\n",
    "    for i in range(1000):\n",
    "        x = random_x()\n",
    "        y = average_slope * x\n",
    "        for slope in all_slopes:\n",
    "            sum_variance += (y - (slope * x))**2\n",
    "    return sum_variance / (1000 * runs)"
   ]
  },
  {
   "cell_type": "code",
   "execution_count": 19,
   "metadata": {},
   "outputs": [],
   "source": [
    "# Testing function\n",
    "def do_test(runs):\n",
    "    all_slopes = []\n",
    "    slope_sum = 0\n",
    "    for i in range(runs):\n",
    "        slope = get_slope()\n",
    "        all_slopes.append(slope)\n",
    "        slope_sum += slope\n",
    "    print(\"Expected value slope: \", slope_sum / runs)\n",
    "    print(\"Bias: \", get_bias(slope_sum / runs))\n",
    "    print(\"Variance: \", get_variance(slope_sum / runs, all_slopes, runs))"
   ]
  },
  {
   "cell_type": "code",
   "execution_count": 20,
   "metadata": {},
   "outputs": [
    {
     "name": "stdout",
     "output_type": "stream",
     "text": [
      "Expected value slope:  1.4319925166416447\n",
      "Bias:  0.24092896600353192\n",
      "Variance:  0.23682714453057038\n"
     ]
    }
   ],
   "source": [
    "# Driver code\n",
    "runs = 100000\n",
    "do_test(runs)"
   ]
  }
 ],
 "metadata": {
  "kernelspec": {
   "display_name": "Python 3",
   "language": "python",
   "name": "python3"
  },
  "language_info": {
   "codemirror_mode": {
    "name": "ipython",
    "version": 3
   },
   "file_extension": ".py",
   "mimetype": "text/x-python",
   "name": "python",
   "nbconvert_exporter": "python",
   "pygments_lexer": "ipython3",
   "version": "3.8.3"
  }
 },
 "nbformat": 4,
 "nbformat_minor": 4
}
