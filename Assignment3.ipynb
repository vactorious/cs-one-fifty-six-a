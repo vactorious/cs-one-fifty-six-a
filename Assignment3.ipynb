{
 "cells": [
  {
   "cell_type": "markdown",
   "metadata": {},
   "source": [
    "# Problem Set 3\n",
    "\n",
    "Victor Huang\n",
    "\n",
    "October 19, 2020\n",
    "\n",
    "1. B\n",
    "2. C\n",
    "3. D\n",
    "4. B\n",
    "5. B\n",
    "6. C\n",
    "7. C\n",
    "8. D\n",
    "9. D\n",
    "10. B"
   ]
  }
 ],
 "metadata": {
  "kernelspec": {
   "display_name": "Python 3",
   "language": "python",
   "name": "python3"
  },
  "language_info": {
   "codemirror_mode": {
    "name": "ipython",
    "version": 3
   },
   "file_extension": ".py",
   "mimetype": "text/x-python",
   "name": "python",
   "nbconvert_exporter": "python",
   "pygments_lexer": "ipython3",
   "version": "3.8.3"
  }
 },
 "nbformat": 4,
 "nbformat_minor": 4
}
