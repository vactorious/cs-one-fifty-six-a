{
 "cells": [
  {
   "cell_type": "markdown",
   "metadata": {},
   "source": [
    "# Assignment 7\n",
    "\n",
    "Victor Huang\n",
    "\n",
    "November 16, 2020\n",
    "\n",
    "1. D\n",
    "2. E\n",
    "3. D\n",
    "4. D\n",
    "5. B\n",
    "6. D\n",
    "7. \n",
    "8. \n",
    "9. \n",
    "10. "
   ]
  },
  {
   "cell_type": "markdown",
   "metadata": {},
   "source": [
    "## Validation"
   ]
  },
  {
   "cell_type": "code",
   "execution_count": 13,
   "metadata": {},
   "outputs": [],
   "source": [
    "# Importing Libraries\n",
    "import numpy\n",
    "import random"
   ]
  },
  {
   "cell_type": "code",
   "execution_count": 11,
   "metadata": {},
   "outputs": [],
   "source": [
    "# Translate data file to list\n",
    "def get_data(filename):\n",
    "    file = open(filename)\n",
    "    data = []\n",
    "    label = []\n",
    "    for line in file:\n",
    "        content = [x for x in line.split() if x]\n",
    "        data.append((float(content[0]), float(content[1])))\n",
    "        label.append(float(content[2]))\n",
    "    return (data, label)\n",
    "\n",
    "# Non-linear Transformation\n",
    "def transform(data, k):\n",
    "    transformed = []\n",
    "    for x1, x2 in data:\n",
    "        transformed.append((1, x1, x2, x1**2, x2**2, x1*x2, abs(x1-x2), abs(x1+x2))[:k+1])\n",
    "    return transformed\n",
    "\n",
    "# Output based on hypothesis\n",
    "def g(w, x):\n",
    "    return numpy.sign(numpy.dot(w, x))\n",
    "\n",
    "# Get Error\n",
    "def get_error(w, data, label):\n",
    "    total_error = 0\n",
    "    for i, j in zip(data, label):\n",
    "        hyp = g(w, i)\n",
    "        if hyp != j:\n",
    "            total_error += 1\n",
    "    return total_error / float(len(label))\n",
    "\n",
    "# Non-linear Transformation Regression Testing Function\n",
    "def do_linear_test(k, reverse):\n",
    "    data_in, label_in = get_data(\"in.txt\")\n",
    "    data_out, label_out = get_data(\"out.txt\")\n",
    "    transformed_in, transformed_out = transform(data_in, k), transform(data_out, k)\n",
    "    \n",
    "    if not reverse:\n",
    "        training_set, validation_set = transformed_in[:25], transformed_in[25:]\n",
    "        training_label, validation_label = label_in[:25], label_in[25:]\n",
    "    else:\n",
    "        validation_set, training_set = transformed_in[:25], transformed_in[25:]\n",
    "        validation_label, training_label = label_in[:25], label_in[25:]\n",
    "        \n",
    "    w = numpy.dot(numpy.linalg.pinv(training_set), training_label)\n",
    "    error_validation = get_error(w, validation_set, validation_label)\n",
    "    error_out = get_error(w, transformed_out, label_out)\n",
    "    return (error_validation, error_out)"
   ]
  },
  {
   "cell_type": "code",
   "execution_count": 12,
   "metadata": {},
   "outputs": [
    {
     "name": "stdout",
     "output_type": "stream",
     "text": [
      "\n",
      "Non-linear Transformation Linear Regression (25T10V), k = 3\n",
      "Validation Error:  0.3\n",
      "Out-sample Error:  0.42\n",
      "\n",
      "Non-linear Transformation Linear Regression (25T10V), k = 4\n",
      "Validation Error:  0.5\n",
      "Out-sample Error:  0.416\n",
      "\n",
      "Non-linear Transformation Linear Regression (25T10V), k = 5\n",
      "Validation Error:  0.2\n",
      "Out-sample Error:  0.188\n",
      "\n",
      "Non-linear Transformation Linear Regression (25T10V), k = 6\n",
      "Validation Error:  0.0\n",
      "Out-sample Error:  0.084\n",
      "\n",
      "Non-linear Transformation Linear Regression (25T10V), k = 7\n",
      "Validation Error:  0.1\n",
      "Out-sample Error:  0.072\n",
      "\n",
      "Non-linear Transformation Linear Regression (25V10T), k = 3\n",
      "Validation Error:  0.28\n",
      "Out-sample Error:  0.396\n",
      "\n",
      "Non-linear Transformation Linear Regression (25V10T), k = 4\n",
      "Validation Error:  0.36\n",
      "Out-sample Error:  0.388\n",
      "\n",
      "Non-linear Transformation Linear Regression (25V10T), k = 5\n",
      "Validation Error:  0.2\n",
      "Out-sample Error:  0.284\n",
      "\n",
      "Non-linear Transformation Linear Regression (25V10T), k = 6\n",
      "Validation Error:  0.08\n",
      "Out-sample Error:  0.192\n",
      "\n",
      "Non-linear Transformation Linear Regression (25V10T), k = 7\n",
      "Validation Error:  0.12\n",
      "Out-sample Error:  0.196\n"
     ]
    }
   ],
   "source": [
    "# Driver Code\n",
    "for k in range(3, 8):\n",
    "    error_validation, error_out = do_linear_test(k, False)\n",
    "    print(\"\\nNon-linear Transformation Linear Regression (25T10V), k =\", k)\n",
    "    print(\"Validation Error: \", error_validation)\n",
    "    print(\"Out-sample Error: \", error_out)\n",
    "    \n",
    "for k in range(3, 8):\n",
    "    error_validation, error_out = do_linear_test(k, True)\n",
    "    print(\"\\nNon-linear Transformation Linear Regression (25V10T), k =\", k)\n",
    "    print(\"Validation Error: \", error_validation)\n",
    "    print(\"Out-sample Error: \", error_out)"
   ]
  },
  {
   "cell_type": "markdown",
   "metadata": {},
   "source": [
    "## Validation Bias"
   ]
  },
  {
   "cell_type": "code",
   "execution_count": 14,
   "metadata": {},
   "outputs": [
    {
     "name": "stdout",
     "output_type": "stream",
     "text": [
      "Expected value for min(e1, e2):  0.33380750840820766\n"
     ]
    }
   ],
   "source": [
    "# Expected values for e1, e2, and min(e1, e2)\n",
    "total = 0\n",
    "for i in range(100000):\n",
    "    e1, e2 = random.uniform(0, 1), random.uniform(0, 1)\n",
    "    total += min(e1, e2)\n",
    "print(\"Expected value for min(e1, e2): \", total / 100000)"
   ]
  },
  {
   "cell_type": "markdown",
   "metadata": {},
   "source": [
    "## PLA vs. Support Vector Machines"
   ]
  }
 ],
 "metadata": {
  "kernelspec": {
   "display_name": "Python 3",
   "language": "python",
   "name": "python3"
  },
  "language_info": {
   "codemirror_mode": {
    "name": "ipython",
    "version": 3
   },
   "file_extension": ".py",
   "mimetype": "text/x-python",
   "name": "python",
   "nbconvert_exporter": "python",
   "pygments_lexer": "ipython3",
   "version": "3.8.3"
  }
 },
 "nbformat": 4,
 "nbformat_minor": 4
}
