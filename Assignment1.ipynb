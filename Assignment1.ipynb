{
 "cells": [
  {
   "cell_type": "markdown",
   "metadata": {},
   "source": [
    "# Problem Set 1\n",
    "Victor Huang\n",
    "\n",
    "October 5, 2020"
   ]
  },
  {
   "cell_type": "markdown",
   "metadata": {},
   "source": [
    "1. D\n",
    "2. A\n",
    "3. D\n",
    "4. B\n",
    "5. C\n",
    "6. E\n",
    "7. B\n",
    "8. C\n",
    "9. B\n",
    "10. B"
   ]
  },
  {
   "cell_type": "markdown",
   "metadata": {},
   "source": [
    "## Perceptron Learning Algorithm"
   ]
  },
  {
   "cell_type": "code",
   "execution_count": 120,
   "metadata": {},
   "outputs": [],
   "source": [
    "# Importing libraries\n",
    "import random\n",
    "import numpy"
   ]
  },
  {
   "cell_type": "code",
   "execution_count": 121,
   "metadata": {},
   "outputs": [],
   "source": [
    "# Perceptron Learning Algorithm\n",
    "def pla(points):\n",
    "    \n",
    "    # Choosing target function points\n",
    "    p1 = [random.uniform(-1, 1), random.uniform(-1, 1)]\n",
    "    p2 = [random.uniform(-1, 1), random.uniform(-1, 1)]\n",
    "    slope = (p2[1] - p1[1]) / (p2[0] - p1[0])\n",
    "    intercept = p1[1] - (slope * p1[0])\n",
    "    \n",
    "    # Determine actual output based on target function\n",
    "    def actual_output(j, k):\n",
    "        return numpy.sign(k - (slope * j + intercept))\n",
    "    \n",
    "    # Choosing input points\n",
    "    data = []\n",
    "    for i in range(points):\n",
    "        random_x = random.uniform(-1, 1)\n",
    "        random_y = random.uniform(-1, 1)\n",
    "        data.append(([1, random_x, random_y], actual_output(random_x, random_y)))\n",
    "        \n",
    "    # Weights\n",
    "    w = [0, 0, 0]\n",
    "        \n",
    "    # Determine output for hypothesis\n",
    "    def h(x):\n",
    "        return numpy.sign(numpy.dot(w, x))\n",
    "        \n",
    "    # PLA iteration\n",
    "    def iterate():\n",
    "        iterations = 0\n",
    "        misclassified = data[:]\n",
    "        while len(misclassified) != 0:\n",
    "            random_point = random.choice(misclassified)\n",
    "            w[0] += random_point[0][0] * random_point[1]\n",
    "            w[1] += random_point[0][1] * random_point[1]\n",
    "            w[2] += random_point[0][2] * random_point[1]\n",
    "            misclassified = []\n",
    "            for i in range(points):\n",
    "                if h(data[i][0]) != data[i][1]:\n",
    "                    misclassified.append(data[i])\n",
    "            iterations += 1\n",
    "        return iterations\n",
    "    \n",
    "    # Disagreement calculations\n",
    "    def disagree():\n",
    "        result = 0\n",
    "        quantity = 100\n",
    "        for i in range(quantity):\n",
    "            point = [1, random.uniform(-1, 1), random.uniform(-1, 1)]\n",
    "            if h(point) != actual_output(point[1], point[2]):\n",
    "                result += 1\n",
    "        return result / quantity\n",
    "    \n",
    "    return [iterate(), disagree()]\n",
    "    "
   ]
  },
  {
   "cell_type": "code",
   "execution_count": 122,
   "metadata": {},
   "outputs": [],
   "source": [
    "# Testing function\n",
    "def do_test(runs):\n",
    "    \n",
    "    # 10 training points\n",
    "    N = 10\n",
    "    total_iterations_10 = 0\n",
    "    disagreement_10 = 0\n",
    "    for i in range(runs):\n",
    "        result_10 = pla(N)\n",
    "        total_iterations_10 += result_10[0]\n",
    "        disagreement_10 += result_10[1]\n",
    "    \n",
    "    print(\"Runs: \", runs)\n",
    "    print(\"\\nN = 10\")\n",
    "    print(\"Iterations: \", total_iterations_10 / runs)\n",
    "    print(\"Disagreement: \", disagreement_10 / runs)\n",
    "    \n",
    "    # 100 training points\n",
    "    N = 100\n",
    "    total_iterations_100 = 0\n",
    "    disagreement_100 = 0\n",
    "    for i in range(runs):\n",
    "        result_100 = pla(N)\n",
    "        total_iterations_100 += result_100[0]\n",
    "        disagreement_100 += result_100[1]\n",
    "        \n",
    "    print(\"\\nN = 100\")\n",
    "    print(\"Iterations: \", total_iterations_100 / runs)\n",
    "    print(\"Disagreement: \", disagreement_100 / runs)"
   ]
  },
  {
   "cell_type": "code",
   "execution_count": 123,
   "metadata": {},
   "outputs": [
    {
     "name": "stdout",
     "output_type": "stream",
     "text": [
      "Runs:  10000\n",
      "\n",
      "N = 10\n",
      "Iterations:  9.974\n",
      "Disagreement:  0.10921099999999626\n",
      "\n",
      "N = 100\n",
      "Iterations:  120.1254\n",
      "Disagreement:  0.013283000000000492\n"
     ]
    }
   ],
   "source": [
    "# Driver Code\n",
    "runs = 10000\n",
    "do_test(runs)"
   ]
  }
 ],
 "metadata": {
  "kernelspec": {
   "display_name": "Python 3",
   "language": "python",
   "name": "python3"
  },
  "language_info": {
   "codemirror_mode": {
    "name": "ipython",
    "version": 3
   },
   "file_extension": ".py",
   "mimetype": "text/x-python",
   "name": "python",
   "nbconvert_exporter": "python",
   "pygments_lexer": "ipython3",
   "version": "3.8.3"
  }
 },
 "nbformat": 4,
 "nbformat_minor": 4
}
